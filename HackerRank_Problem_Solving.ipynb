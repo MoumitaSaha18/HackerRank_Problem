{
  "nbformat": 4,
  "nbformat_minor": 0,
  "metadata": {
    "colab": {
      "provenance": [],
      "include_colab_link": true
    },
    "kernelspec": {
      "name": "python3",
      "display_name": "Python 3"
    },
    "language_info": {
      "name": "python"
    }
  },
  "cells": [
    {
      "cell_type": "markdown",
      "metadata": {
        "id": "view-in-github",
        "colab_type": "text"
      },
      "source": [
        "<a href=\"https://colab.research.google.com/github/MoumitaSaha18/HackerRank_Problem/blob/main/HackerRank_Problem_Solving.ipynb\" target=\"_parent\"><img src=\"https://colab.research.google.com/assets/colab-badge.svg\" alt=\"Open In Colab\"/></a>"
      ]
    },
    {
      "cell_type": "markdown",
      "source": [
        "# ***HackerRank Problem Solving ***"
      ],
      "metadata": {
        "id": "1Pbbm_g52Aji"
      }
    },
    {
      "cell_type": "markdown",
      "source": [
        "Day 1 - <br>Problem 1 - Python --> Basic Data Types --> List Cpmprehensions\n",
        "\n",
        "You are given three integers x, y, and z representing the dimensions of a cuboid along with an integer n. Print a list of all possible coordinates given by (i, j, k) on a 3D grid where the sum of i + j + k is not equal to n. Here,\n",
        "0 ≤ i ≤ x;\n",
        "0 ≤ j ≤ y;\n",
        "0 ≤ k ≤ z.\n",
        "\n",
        "Please use list comprehensions rather than multiple loops, as a learning exercise."
      ],
      "metadata": {
        "id": "QVaY-ADI28Rz"
      }
    },
    {
      "cell_type": "code",
      "source": [
        "if __name__ == '__main__':\n",
        "  x = int(input())\n",
        "  y = int(input())\n",
        "  z = int(input())\n",
        "  n = int(input())\n",
        "\n",
        "  result = [[i,j,k] for i in range(x+1) for j in range(y+1) for k in range(z+1) if (i+j+k) != n]\n",
        "\n",
        "  print(result)"
      ],
      "metadata": {
        "colab": {
          "base_uri": "https://localhost:8080/"
        },
        "id": "ygsK0aX625CP",
        "outputId": "293237f6-18c2-4872-b6f7-ed9f971509e9"
      },
      "execution_count": null,
      "outputs": [
        {
          "output_type": "stream",
          "name": "stdout",
          "text": [
            "1\n",
            "0\n",
            "3\n",
            "5\n",
            "[[0, 0, 0], [0, 0, 1], [0, 0, 2], [0, 0, 3], [1, 0, 0], [1, 0, 1], [1, 0, 2], [1, 0, 3]]\n"
          ]
        }
      ]
    },
    {
      "cell_type": "markdown",
      "source": [
        "Day 2 - <br>Problem 2 - Python --> Basic Data Types --> Nested Lists\n",
        "\n",
        "Given the names and grades for each student in a class of  N students, store them in a nested list and print the name(s) of any student(s) having the second lowest grade.\n",
        "\n",
        "Note: If there are multiple students with the second lowest grade, order their names alphabetically and print each name on a new line."
      ],
      "metadata": {
        "id": "gw8KpO-sbwX5"
      }
    },
    {
      "cell_type": "code",
      "source": [
        "if __name__ == '__main__':\n",
        "    students = [] #took a list to store name and score data in a list\n",
        "\n",
        "    for _ in range(int(input())):\n",
        "        name = input()\n",
        "        score = float(input())\n",
        "        students.append([name, score]) #storing name and score in a list named students\n",
        "\n",
        "    #Sort students by score (ascending order)\n",
        "    students.sort(key=lambda x: x[1])\n",
        "\n",
        "    #Extracting the unique scores and finding the second lowest score\n",
        "    scores = sorted(set(score for name, score in students))\n",
        "    second_lowest_score = scores[1]\n",
        "\n",
        "    #now i have to get the names of the students who got second lowest score\n",
        "    second_lowest_score_students = sorted([name for name, score in students if score == second_lowest_score])\n",
        "\n",
        "    #now I will print names in separate lines\n",
        "\n",
        "    for students in second_lowest_score_students:\n",
        "        print(students)\n"
      ],
      "metadata": {
        "colab": {
          "base_uri": "https://localhost:8080/"
        },
        "id": "BMU3mnhobw3v",
        "outputId": "32c8dbdd-db33-401f-fb84-b8932026ab82"
      },
      "execution_count": null,
      "outputs": [
        {
          "output_type": "stream",
          "name": "stdout",
          "text": [
            "4\n",
            "kely\n",
            "35\n",
            "ama\n",
            "35\n",
            "lucy\n",
            "98\n",
            "jake\n",
            "98\n",
            "jake\n",
            "lucy\n"
          ]
        }
      ]
    },
    {
      "cell_type": "markdown",
      "source": [
        "Day 3 - <br>Problem 3 - Python --> Basic Data Types --> Finding the percentage\n",
        "<br>\n",
        "The provided code stub will read in a dictionary containing key/value pairs of name:[marks] for a list of students. Print the average of the marks array for the student name provided, showing 2 places after the decimal. <br>\n",
        "<br>\n",
        "For Example:<br>\n",
        "marks key:value pairs are <br>\n",
        "'alpha': [20,30,40]<br>\n",
        "'beta': [30,50,70]<br>\n",
        "query_name = 'beta'<br>\n",
        "<br>\n",
        "The query_name is 'beta'. beta's average score is (30+50+70)/3 = 50.0\n",
        "\n"
      ],
      "metadata": {
        "id": "m5zae2Qmi2JD"
      }
    },
    {
      "cell_type": "code",
      "source": [],
      "metadata": {
        "id": "gAYJJEBajZQ5"
      },
      "execution_count": null,
      "outputs": []
    }
  ]
}