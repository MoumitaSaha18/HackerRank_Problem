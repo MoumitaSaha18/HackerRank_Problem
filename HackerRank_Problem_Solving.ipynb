{
  "nbformat": 4,
  "nbformat_minor": 0,
  "metadata": {
    "colab": {
      "provenance": [],
      "authorship_tag": "ABX9TyNNuziDBx7ul1DeuwZfkHC3",
      "include_colab_link": true
    },
    "kernelspec": {
      "name": "python3",
      "display_name": "Python 3"
    },
    "language_info": {
      "name": "python"
    }
  },
  "cells": [
    {
      "cell_type": "markdown",
      "metadata": {
        "id": "view-in-github",
        "colab_type": "text"
      },
      "source": [
        "<a href=\"https://colab.research.google.com/github/MoumitaSaha18/HackerRank_Problem/blob/main/HackerRank_Problem_Solving.ipynb\" target=\"_parent\"><img src=\"https://colab.research.google.com/assets/colab-badge.svg\" alt=\"Open In Colab\"/></a>"
      ]
    },
    {
      "cell_type": "markdown",
      "source": [
        "# ***HackerRank Problem Solving ***"
      ],
      "metadata": {
        "id": "1Pbbm_g52Aji"
      }
    },
    {
      "cell_type": "markdown",
      "source": [
        "Day 1 - Python --> Basic Data Types --> List Cpmprehensions\n",
        "\n",
        "You are given three integers x, y, and z representing the dimensions of a cuboid along with an integer n. Print a list of all possible coordinates given by (i, j, k) on a 3D grid where the sum of i + j + k is not equal to n. Here,\n",
        "0 ≤ i ≤ x;\n",
        "0 ≤ j ≤ y;\n",
        "0 ≤ k ≤ z.\n",
        "\n",
        "Please use list comprehensions rather than multiple loops, as a learning exercise."
      ],
      "metadata": {
        "id": "QVaY-ADI28Rz"
      }
    },
    {
      "cell_type": "code",
      "source": [
        "if __name__ == '__main__':\n",
        "  x = int(input())\n",
        "  y = int(input())\n",
        "  z = int(input())\n",
        "  n = int(input())\n",
        "\n",
        "  result = [[i,j,k] for i in range(x+1) for j in range(y+1) for k in range(z+1) if (i+j+k) != n]\n",
        "\n",
        "  print(result)"
      ],
      "metadata": {
        "colab": {
          "base_uri": "https://localhost:8080/"
        },
        "id": "ygsK0aX625CP",
        "outputId": "293237f6-18c2-4872-b6f7-ed9f971509e9"
      },
      "execution_count": null,
      "outputs": [
        {
          "output_type": "stream",
          "name": "stdout",
          "text": [
            "1\n",
            "0\n",
            "3\n",
            "5\n",
            "[[0, 0, 0], [0, 0, 1], [0, 0, 2], [0, 0, 3], [1, 0, 0], [1, 0, 1], [1, 0, 2], [1, 0, 3]]\n"
          ]
        }
      ]
    }
  ]
}