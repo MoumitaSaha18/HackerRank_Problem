{
  "nbformat": 4,
  "nbformat_minor": 0,
  "metadata": {
    "colab": {
      "provenance": []
    },
    "kernelspec": {
      "name": "python3",
      "display_name": "Python 3"
    },
    "language_info": {
      "name": "python"
    }
  },
  "cells": [
    {
      "cell_type": "code",
      "source": [
        "from google.colab import drive\n",
        "drive.mount('/content/drive')"
      ],
      "metadata": {
        "id": "OYrcJyuF9PPV",
        "outputId": "a353447d-f352-4d8f-c9fd-ac0fb98f11a2",
        "colab": {
          "base_uri": "https://localhost:8080/"
        }
      },
      "execution_count": 2,
      "outputs": [
        {
          "output_type": "stream",
          "name": "stdout",
          "text": [
            "Drive already mounted at /content/drive; to attempt to forcibly remount, call drive.mount(\"/content/drive\", force_remount=True).\n"
          ]
        }
      ]
    },
    {
      "cell_type": "markdown",
      "source": [
        "# ***HackerRank Problem Solving ***"
      ],
      "metadata": {
        "id": "1Pbbm_g52Aji"
      }
    },
    {
      "cell_type": "markdown",
      "source": [
        "Day 1 - Python --> Basic Data Types --> List Cpmprehensions\n",
        "\n",
        "You are given three integers x, y, and z representing the dimensions of a cuboid along with an integer n. Print a list of all possible coordinates given by (i, j, k) on a 3D grid where the sum of i + j + k is not equal to n. Here,\n",
        "0 ≤ i ≤ x;\n",
        "0 ≤ j ≤ y;\n",
        "0 ≤ k ≤ z.\n",
        "\n",
        "Please use list comprehensions rather than multiple loops, as a learning exercise."
      ],
      "metadata": {
        "id": "QVaY-ADI28Rz"
      }
    },
    {
      "cell_type": "code",
      "source": [
        "if __name__ == '__main__':\n",
        "  x = int(input())\n",
        "  y = int(input())\n",
        "  z = int(input())\n",
        "  n = int(input())\n",
        "\n",
        "  result = [[i,j,k] for i in range(x+1) for j in range(y+1) for k in range(z+1) if (i+j+k) != n]\n",
        "\n",
        "  print(result)"
      ],
      "metadata": {
        "colab": {
          "base_uri": "https://localhost:8080/"
        },
        "id": "ygsK0aX625CP",
        "outputId": "69278e64-b22f-49d4-e3ed-d62a30b49ae8"
      },
      "execution_count": 3,
      "outputs": [
        {
          "output_type": "stream",
          "name": "stdout",
          "text": [
            "1\n",
            "1\n",
            "1\n",
            "2\n",
            "[[0, 0, 0], [0, 0, 1], [0, 1, 0], [1, 0, 0], [1, 1, 1]]\n"
          ]
        }
      ]
    }
  ]
}